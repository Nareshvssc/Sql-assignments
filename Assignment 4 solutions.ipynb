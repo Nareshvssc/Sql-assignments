{
 "cells": [
  {
   "cell_type": "markdown",
   "id": "6d29d081",
   "metadata": {},
   "source": [
    "# Q-1. \n",
    "Write an SQL query to print the FIRST_NAME from Worker table after replacing ‘a’ with ‘A’.\n",
    "\n",
    "Ans- select replace(first_name,'a','A') from worker;\n",
    "\n",
    "##Q-2. \n",
    "Write an SQL query to print all Worker details from the Worker table order by FIRST_NAME Ascending and DEPARTMENT Descending.\n",
    "\n",
    "Ans- Select * from worker order by First_Name asc , Department desc;\n",
    "\n",
    "##Q-3. \n",
    "Write an SQL query to fetch the names of workers who earn the highest salary.\n",
    "\n",
    "Ans- Select first_name,last_name from worker where salary = (select max(salary) from worker)\n"
   ]
  },
  {
   "cell_type": "code",
   "execution_count": null,
   "id": "a4b8e6f8",
   "metadata": {},
   "outputs": [],
   "source": []
  }
 ],
 "metadata": {
  "kernelspec": {
   "display_name": "Python 3",
   "language": "python",
   "name": "python3"
  },
  "language_info": {
   "codemirror_mode": {
    "name": "ipython",
    "version": 3
   },
   "file_extension": ".py",
   "mimetype": "text/x-python",
   "name": "python",
   "nbconvert_exporter": "python",
   "pygments_lexer": "ipython3",
   "version": "3.8.8"
  }
 },
 "nbformat": 4,
 "nbformat_minor": 5
}
