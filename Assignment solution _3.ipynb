{
 "cells": [
  {
   "cell_type": "markdown",
   "id": "96681411",
   "metadata": {},
   "source": [
    "# Q-1. \n",
    "Write an SQL query to print the FIRST_NAME from Worker table after removing white spaces from the right side.\n"
   ]
  },
  {
   "cell_type": "code",
   "execution_count": null,
   "id": "11250811",
   "metadata": {},
   "outputs": [],
   "source": [
    "##Ans- \n",
    "Select rtrim(First_Name) from Worker "
   ]
  },
  {
   "cell_type": "markdown",
   "id": "27ab0adb",
   "metadata": {},
   "source": [
    "# Q2.\n",
    " Write an SQL query that fetches the unique values of DEPARTMENT from Worker table and prints its length."
   ]
  },
  {
   "cell_type": "code",
   "execution_count": 2,
   "id": "a6a2eff0",
   "metadata": {},
   "outputs": [],
   "source": [
    "Ans---select distinct DEPARTMENT , length(DEPARTMENT) from worker\n"
   ]
  },
  {
   "cell_type": "markdown",
   "id": "3f6993c4",
   "metadata": {},
   "source": [
    "# Q-3. \n",
    "Write an SQL query to fetch nth max salaries from a table."
   ]
  },
  {
   "cell_type": "code",
   "execution_count": null,
   "id": "b73d7491",
   "metadata": {},
   "outputs": [],
   "source": [
    "# To calculate nth max salary use n-1 instead of 4 in the following command\n",
    "select  distinct salary from worker order by salary desc limit 4,1"
   ]
  }
 ],
 "metadata": {
  "kernelspec": {
   "display_name": "Python 3",
   "language": "python",
   "name": "python3"
  },
  "language_info": {
   "codemirror_mode": {
    "name": "ipython",
    "version": 3
   },
   "file_extension": ".py",
   "mimetype": "text/x-python",
   "name": "python",
   "nbconvert_exporter": "python",
   "pygments_lexer": "ipython3",
   "version": "3.8.8"
  }
 },
 "nbformat": 4,
 "nbformat_minor": 5
}
