{
 "cells": [
  {
   "cell_type": "code",
   "execution_count": null,
   "id": "a68d0a69",
   "metadata": {},
   "outputs": [],
   "source": [
    "Q-19. Write an SQL query to determine the 5th highest salary without using TOP or limit method."
   ]
  },
  {
   "cell_type": "code",
   "execution_count": null,
   "id": "57120afc",
   "metadata": {},
   "outputs": [],
   "source": [
    "\n",
    "select *from (select first_name,department ,dense_rank() over (order by salary desc)ran from worker) as t where t.ran=5;"
   ]
  },
  {
   "cell_type": "code",
   "execution_count": null,
   "id": "f549c4ae",
   "metadata": {},
   "outputs": [],
   "source": [
    "Q-20. Write an SQL query to fetch the list of employees with the same salary."
   ]
  },
  {
   "cell_type": "code",
   "execution_count": null,
   "id": "69e74162",
   "metadata": {},
   "outputs": [],
   "source": [
    "select first_name,salary from worker where salary in (select salary from worker group by salary having count(salary)>1) order by salary desc ;"
   ]
  }
 ],
 "metadata": {
  "kernelspec": {
   "display_name": "Python 3",
   "language": "python",
   "name": "python3"
  },
  "language_info": {
   "codemirror_mode": {
    "name": "ipython",
    "version": 3
   },
   "file_extension": ".py",
   "mimetype": "text/x-python",
   "name": "python",
   "nbconvert_exporter": "python",
   "pygments_lexer": "ipython3",
   "version": "3.8.8"
  }
 },
 "nbformat": 4,
 "nbformat_minor": 5
}
