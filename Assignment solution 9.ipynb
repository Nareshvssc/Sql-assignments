{
 "cells": [
  {
   "cell_type": "markdown",
   "id": "94de6a48",
   "metadata": {},
   "source": [
    "Q-17.  Write an SQL query to show the top n (say 10) records of a table."
   ]
  },
  {
   "cell_type": "code",
   "execution_count": 1,
   "id": "dd9c8514",
   "metadata": {},
   "outputs": [
    {
     "ename": "SyntaxError",
     "evalue": "invalid syntax (<ipython-input-1-402084041a68>, line 1)",
     "output_type": "error",
     "traceback": [
      "\u001b[1;36m  File \u001b[1;32m\"<ipython-input-1-402084041a68>\"\u001b[1;36m, line \u001b[1;32m1\u001b[0m\n\u001b[1;33m    Select *from worker order by Salary limit 10;\u001b[0m\n\u001b[1;37m            ^\u001b[0m\n\u001b[1;31mSyntaxError\u001b[0m\u001b[1;31m:\u001b[0m invalid syntax\n"
     ]
    }
   ],
   "source": [
    "Select *from worker order by Salary limit 10;"
   ]
  },
  {
   "cell_type": "code",
   "execution_count": null,
   "id": "c3a691f6",
   "metadata": {},
   "outputs": [],
   "source": [
    "\n",
    "Q-18. Write an SQL query to determine the nth (say n=5) highest salary from a table.\n"
   ]
  },
  {
   "cell_type": "code",
   "execution_count": null,
   "id": "8fdb16b0",
   "metadata": {},
   "outputs": [],
   "source": [
    "select *from (select *from worker order by salary desc limit 5) AS w1 order by w1.salary asc limit 1;"
   ]
  }
 ],
 "metadata": {
  "kernelspec": {
   "display_name": "Python 3",
   "language": "python",
   "name": "python3"
  },
  "language_info": {
   "codemirror_mode": {
    "name": "ipython",
    "version": 3
   },
   "file_extension": ".py",
   "mimetype": "text/x-python",
   "name": "python",
   "nbconvert_exporter": "python",
   "pygments_lexer": "ipython3",
   "version": "3.8.8"
  }
 },
 "nbformat": 4,
 "nbformat_minor": 5
}
