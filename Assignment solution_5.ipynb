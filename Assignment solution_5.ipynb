{
 "cells": [
  {
   "cell_type": "markdown",
   "id": "3a6d3ab8",
   "metadata": {},
   "source": [
    "# Q-1. \n",
    "Write an SQL query to print details of workers excluding first names, “Vipul” and “Satish” from Worker table.\n",
    "\n",
    "Ans---Select * from worker where first_name not in (‘Vipul’,’Satish’);\n",
    "\n",
    "\n",
    "\n"
   ]
  },
  {
   "cell_type": "markdown",
   "id": "b6ad8f6c",
   "metadata": {},
   "source": [
    "# Q-2. \n",
    "Write an SQL query to print details of the Workers whose FIRST_NAME ends with ‘h’ and contains six alphabets.\n",
    "\n",
    "Ans--Select * from worker where length(first_name)>5 and substring(first_name,length(first_name),1)='h';"
   ]
  },
  {
   "cell_type": "markdown",
   "id": "71ac8854",
   "metadata": {},
   "source": [
    "# ##Q-3. Write a query to validate Email of Employee.\n",
    "\n",
    "Ans--select email_id from worker where email_id regexp '@.';"
   ]
  },
  {
   "cell_type": "code",
   "execution_count": null,
   "id": "ddd99e03",
   "metadata": {},
   "outputs": [],
   "source": []
  }
 ],
 "metadata": {
  "kernelspec": {
   "display_name": "Python 3",
   "language": "python",
   "name": "python3"
  },
  "language_info": {
   "codemirror_mode": {
    "name": "ipython",
    "version": 3
   },
   "file_extension": ".py",
   "mimetype": "text/x-python",
   "name": "python",
   "nbconvert_exporter": "python",
   "pygments_lexer": "ipython3",
   "version": "3.8.8"
  }
 },
 "nbformat": 4,
 "nbformat_minor": 5
}
