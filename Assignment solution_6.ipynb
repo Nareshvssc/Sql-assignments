{
 "cells": [
  {
   "cell_type": "code",
   "execution_count": null,
   "id": "9d8e2947",
   "metadata": {},
   "outputs": [],
   "source": [
    "Q-1. Write an SQL query to print details of the Workers who have joined in Feb’2014."
   ]
  },
  {
   "cell_type": "code",
   "execution_count": null,
   "id": "89a759a6",
   "metadata": {},
   "outputs": [],
   "source": [
    "select * from worker where joining_date like '%02-2014';"
   ]
  },
  {
   "cell_type": "code",
   "execution_count": null,
   "id": "1b730398",
   "metadata": {},
   "outputs": [],
   "source": []
  },
  {
   "cell_type": "code",
   "execution_count": null,
   "id": "2ea77858",
   "metadata": {},
   "outputs": [],
   "source": [
    "Q-2. Write an SQL query to fetch duplicate records having matching data in some fields of a table.\n"
   ]
  },
  {
   "cell_type": "code",
   "execution_count": null,
   "id": "f8fe9245",
   "metadata": {},
   "outputs": [],
   "source": [
    "select *from worker w join (select joining_date,count(*) from worker group by joining_date having count(joining_date)>1) as b on w.joining_date=b.joining_date;"
   ]
  },
  {
   "cell_type": "code",
   "execution_count": null,
   "id": "7ec14fdc",
   "metadata": {},
   "outputs": [],
   "source": [
    "Q-3. How to remove duplicate rows from Employees table."
   ]
  },
  {
   "cell_type": "code",
   "execution_count": null,
   "id": "427e394e",
   "metadata": {},
   "outputs": [],
   "source": [
    "#assume awards in the Primary key in our table employees\n",
    "Delete i from employee i inner join(Select *,rank() over(partition by name, email_id order by awards)rank_m from employees)as e on i.awards=e.awards where e.rank_m>1 "
   ]
  }
 ],
 "metadata": {
  "kernelspec": {
   "display_name": "Python 3",
   "language": "python",
   "name": "python3"
  },
  "language_info": {
   "codemirror_mode": {
    "name": "ipython",
    "version": 3
   },
   "file_extension": ".py",
   "mimetype": "text/x-python",
   "name": "python",
   "nbconvert_exporter": "python",
   "pygments_lexer": "ipython3",
   "version": "3.8.8"
  }
 },
 "nbformat": 4,
 "nbformat_minor": 5
}
