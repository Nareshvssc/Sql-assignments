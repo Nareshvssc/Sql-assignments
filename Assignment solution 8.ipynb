{
 "cells": [
  {
   "cell_type": "markdown",
   "id": "b6e53096",
   "metadata": {},
   "source": [
    "Q-15. Write an SQL query to fetch intersecting records of two tables.\n",
    "#inner join command"
   ]
  },
  {
   "cell_type": "code",
   "execution_count": null,
   "id": "8f5bfb24",
   "metadata": {},
   "outputs": [],
   "source": [
    "select *from worker inner join information on worker.first_name=information.name;"
   ]
  },
  {
   "cell_type": "markdown",
   "id": "c2cd5ead",
   "metadata": {},
   "source": [
    "Q-16. Write an SQL query to show records from one table that another table does not have."
   ]
  },
  {
   "cell_type": "code",
   "execution_count": null,
   "id": "a5954c34",
   "metadata": {},
   "outputs": [],
   "source": [
    "select name, email_id from information  where  information.name NOT IN (select first_name from worker);"
   ]
  }
 ],
 "metadata": {
  "kernelspec": {
   "display_name": "Python 3",
   "language": "python",
   "name": "python3"
  },
  "language_info": {
   "codemirror_mode": {
    "name": "ipython",
    "version": 3
   },
   "file_extension": ".py",
   "mimetype": "text/x-python",
   "name": "python",
   "nbconvert_exporter": "python",
   "pygments_lexer": "ipython3",
   "version": "3.8.8"
  }
 },
 "nbformat": 4,
 "nbformat_minor": 5
}
