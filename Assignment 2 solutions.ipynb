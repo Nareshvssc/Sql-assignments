{
 "cells": [
  {
   "cell_type": "code",
   "execution_count": null,
   "id": "37a80ce2",
   "metadata": {},
   "outputs": [],
   "source": [
    "#Q-1. Write an SQL query to print the first three characters of  FIRST_NAME from Worker table."
   ]
  },
  {
   "cell_type": "code",
   "execution_count": null,
   "id": "549b6155",
   "metadata": {},
   "outputs": [],
   "source": [
    "cursor.execute('select substring(FIRST_NAME,1,3) from Worker')"
   ]
  },
  {
   "cell_type": "code",
   "execution_count": 1,
   "id": "63f3a261",
   "metadata": {},
   "outputs": [],
   "source": [
    "# Q-2. Write an SQL query to find the position of the alphabet (‘a’) in the first name column ‘Amitabh’ from Worker table."
   ]
  },
  {
   "cell_type": "code",
   "execution_count": null,
   "id": "68b58b41",
   "metadata": {},
   "outputs": [],
   "source": [
    "cursor.execute('select FIRST_NAME,Locate(\"a\",FIRST_NAME) as POSITION ,LAST_NAME from Worker')"
   ]
  },
  {
   "cell_type": "code",
   "execution_count": null,
   "id": "06402bb3",
   "metadata": {},
   "outputs": [],
   "source": [
    "# Q-3 Write an SQL query to print the name of employees having the highest salary in each department."
   ]
  },
  {
   "cell_type": "code",
   "execution_count": null,
   "id": "b58e79cb",
   "metadata": {},
   "outputs": [],
   "source": [
    "cursor.execute('select MAX(SALARY), DEPARTMENT from Worker group by  DEPARTMENT') "
   ]
  },
  {
   "cell_type": "code",
   "execution_count": null,
   "id": "eafacc99",
   "metadata": {},
   "outputs": [],
   "source": []
  }
 ],
 "metadata": {
  "kernelspec": {
   "display_name": "Python 3",
   "language": "python",
   "name": "python3"
  },
  "language_info": {
   "codemirror_mode": {
    "name": "ipython",
    "version": 3
   },
   "file_extension": ".py",
   "mimetype": "text/x-python",
   "name": "python",
   "nbconvert_exporter": "python",
   "pygments_lexer": "ipython3",
   "version": "3.8.8"
  }
 },
 "nbformat": 4,
 "nbformat_minor": 5
}
