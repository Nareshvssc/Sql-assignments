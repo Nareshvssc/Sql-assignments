{
 "cells": [
  {
   "cell_type": "code",
   "execution_count": 1,
   "id": "48672108",
   "metadata": {},
   "outputs": [],
   "source": [
    "#Q-1. Write an SQL query to fetch “FIRST_NAME” from Worker table using the alias name as <WORKER_NAME>.\n"
   ]
  },
  {
   "cell_type": "markdown",
   "id": "01bae68d",
   "metadata": {},
   "source": [
    "ANS-   select FIRST_NAME as WORKER_NAME from Worker"
   ]
  },
  {
   "cell_type": "markdown",
   "id": "b9d410bd",
   "metadata": {},
   "source": [
    "# Python script\n",
    "cursor.execute('select FIRST_NAME as WORKER_NAME from Worker')"
   ]
  },
  {
   "cell_type": "code",
   "execution_count": 2,
   "id": "9034b130",
   "metadata": {},
   "outputs": [],
   "source": [
    "#Write an SQL query to fetch unique values of DEPARTMENT from Worker table."
   ]
  },
  {
   "cell_type": "markdown",
   "id": "15c326e1",
   "metadata": {},
   "source": [
    "ANS- select DISTINCT DEPARTMENT from Worker"
   ]
  },
  {
   "cell_type": "markdown",
   "id": "a850b866",
   "metadata": {},
   "source": [
    "# Python code\n",
    "cursor.execute('select distinct DEPARTMENT from Worker')"
   ]
  },
  {
   "cell_type": "code",
   "execution_count": 3,
   "id": "f8c13ff9",
   "metadata": {},
   "outputs": [],
   "source": [
    "#Write an SQL query to show the last 5 record from a table."
   ]
  },
  {
   "cell_type": "markdown",
   "id": "ee06e120",
   "metadata": {},
   "source": [
    "Ans - select *from Worker order by id desc limit 5"
   ]
  },
  {
   "cell_type": "markdown",
   "id": "5df9452b",
   "metadata": {},
   "source": [
    "# Python code \n",
    "cursor.execute('select *from Worker order by id desc limit 5')\n",
    "\n",
    "\n",
    "for i in cursor.fetchall():\n",
    "\n",
    "    print(i)"
   ]
  },
  {
   "cell_type": "code",
   "execution_count": null,
   "id": "6d5b6f37",
   "metadata": {},
   "outputs": [],
   "source": []
  }
 ],
 "metadata": {
  "kernelspec": {
   "display_name": "Python 3",
   "language": "python",
   "name": "python3"
  },
  "language_info": {
   "codemirror_mode": {
    "name": "ipython",
    "version": 3
   },
   "file_extension": ".py",
   "mimetype": "text/x-python",
   "name": "python",
   "nbconvert_exporter": "python",
   "pygments_lexer": "ipython3",
   "version": "3.8.8"
  }
 },
 "nbformat": 4,
 "nbformat_minor": 5
}
